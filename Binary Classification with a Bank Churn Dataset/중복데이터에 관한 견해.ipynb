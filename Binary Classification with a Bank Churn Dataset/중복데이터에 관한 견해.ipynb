{
 "cells": [
  {
   "cell_type": "code",
   "execution_count": 1,
   "metadata": {},
   "outputs": [],
   "source": [
    "import pandas as pd"
   ]
  },
  {
   "cell_type": "code",
   "execution_count": 2,
   "metadata": {},
   "outputs": [],
   "source": [
    "test = pd.read_csv(\"./data/test.csv\")"
   ]
  },
  {
   "cell_type": "code",
   "execution_count": 3,
   "metadata": {},
   "outputs": [
    {
     "data": {
      "text/html": [
       "<div>\n",
       "<style scoped>\n",
       "    .dataframe tbody tr th:only-of-type {\n",
       "        vertical-align: middle;\n",
       "    }\n",
       "\n",
       "    .dataframe tbody tr th {\n",
       "        vertical-align: top;\n",
       "    }\n",
       "\n",
       "    .dataframe thead th {\n",
       "        text-align: right;\n",
       "    }\n",
       "</style>\n",
       "<table border=\"1\" class=\"dataframe\">\n",
       "  <thead>\n",
       "    <tr style=\"text-align: right;\">\n",
       "      <th></th>\n",
       "      <th>id</th>\n",
       "      <th>CustomerId</th>\n",
       "      <th>Surname</th>\n",
       "      <th>CreditScore</th>\n",
       "      <th>Geography</th>\n",
       "      <th>Gender</th>\n",
       "      <th>Age</th>\n",
       "      <th>Tenure</th>\n",
       "      <th>Balance</th>\n",
       "      <th>NumOfProducts</th>\n",
       "      <th>HasCrCard</th>\n",
       "      <th>IsActiveMember</th>\n",
       "      <th>EstimatedSalary</th>\n",
       "    </tr>\n",
       "  </thead>\n",
       "  <tbody>\n",
       "    <tr>\n",
       "      <th>6519</th>\n",
       "      <td>171553</td>\n",
       "      <td>15782418</td>\n",
       "      <td>Ku</td>\n",
       "      <td>678</td>\n",
       "      <td>Germany</td>\n",
       "      <td>Female</td>\n",
       "      <td>19.0</td>\n",
       "      <td>9</td>\n",
       "      <td>83495.11</td>\n",
       "      <td>1</td>\n",
       "      <td>1.0</td>\n",
       "      <td>1.0</td>\n",
       "      <td>143022.31</td>\n",
       "    </tr>\n",
       "    <tr>\n",
       "      <th>99706</th>\n",
       "      <td>264740</td>\n",
       "      <td>15782418</td>\n",
       "      <td>Ku</td>\n",
       "      <td>589</td>\n",
       "      <td>Germany</td>\n",
       "      <td>Female</td>\n",
       "      <td>19.0</td>\n",
       "      <td>9</td>\n",
       "      <td>83495.11</td>\n",
       "      <td>1</td>\n",
       "      <td>0.0</td>\n",
       "      <td>1.0</td>\n",
       "      <td>143022.31</td>\n",
       "    </tr>\n",
       "    <tr>\n",
       "      <th>100071</th>\n",
       "      <td>265105</td>\n",
       "      <td>15782418</td>\n",
       "      <td>Ku</td>\n",
       "      <td>591</td>\n",
       "      <td>Germany</td>\n",
       "      <td>Female</td>\n",
       "      <td>19.0</td>\n",
       "      <td>9</td>\n",
       "      <td>83495.11</td>\n",
       "      <td>2</td>\n",
       "      <td>1.0</td>\n",
       "      <td>1.0</td>\n",
       "      <td>143022.31</td>\n",
       "    </tr>\n",
       "  </tbody>\n",
       "</table>\n",
       "</div>"
      ],
      "text/plain": [
       "            id  CustomerId Surname  CreditScore Geography  Gender   Age  \\\n",
       "6519    171553    15782418      Ku          678   Germany  Female  19.0   \n",
       "99706   264740    15782418      Ku          589   Germany  Female  19.0   \n",
       "100071  265105    15782418      Ku          591   Germany  Female  19.0   \n",
       "\n",
       "        Tenure   Balance  NumOfProducts  HasCrCard  IsActiveMember  \\\n",
       "6519         9  83495.11              1        1.0             1.0   \n",
       "99706        9  83495.11              1        0.0             1.0   \n",
       "100071       9  83495.11              2        1.0             1.0   \n",
       "\n",
       "        EstimatedSalary  \n",
       "6519          143022.31  \n",
       "99706         143022.31  \n",
       "100071        143022.31  "
      ]
     },
     "execution_count": 3,
     "metadata": {},
     "output_type": "execute_result"
    }
   ],
   "source": [
    "test_unique_id = test[\"CustomerId\"].unique()\n",
    "test[(test[\"CustomerId\"] == test_unique_id[1]) & (test[\"Surname\"] == \"Ku\")]"
   ]
  },
  {
   "cell_type": "markdown",
   "metadata": {},
   "source": [
    "위의 3 Row를 보면 굉장히 비슷하지만, 서로 다른 값을 가지고 있다. (id, CustomerId 제외)\n",
    "\n",
    "1번과 2번 컬럼을 비교해보면, 'CreditScore' 컬럼과 'HasCrCard' 컬럼 값만 차이가 존재하고 나머지 컬럼의 경우 모두 동일한 값을 가진다. \n",
    "\n",
    "1번과 3번 컬럼을 비교해보면, 'CreditScore' 컬럼과 'NumOfProducts' 컬럼 값만 차이가 존재하고 나머지 컬럼의 경우 모두 동일한 값을 가진다. \n",
    "\n",
    "2번과 3번 컬럼을 비교해보면, 'CredictScore' 컬럼과 'NumOfProducts' 컬럼 값만 차이가 존재하고 나머지 컬럼의 경우 모두 동일한 값을 가진다. \n",
    "\n",
    "-> 그렇다면 위 3개의 row에 등장하는 _독일에 사는 19살 Ku_ 는 모두 동일 고객인가? \n",
    "\n",
    "-> 동일 고객이라면, 위와 같은 데이터는 시간에 따른 동일 고객에 대한 데이터인가?\n",
    "\n",
    "-> 시간에 따른 동일 고객에 대한 데이터라면, 어떤 데이터의 시간 순서는 어떻게 되는가? \n",
    "\n",
    "=> 주어진 train 혹은 test 데이터에서 위의 질문에 대한 답을 내는 것이  <u>무의미</u> 하다고 판단된다.\n",
    "\n",
    "=> 동일 고객이든 아니든, 결국에는 위 3개의 row 에 나타나는 고객에 대한 이탈 여부를 각각 판단해야 한다.\n",
    "\n",
    "=> 따라서, 위 3개의 row 에 나타나는 고객이 동일 고객인지 판단하는 것이 유의미한 결과를 낳을 것 같지는 않다.\n",
    "\n",
    "**결론.**\n",
    " \n",
    "'CustomerId', 'Surname' 컬럼은 제외하고 고객의 이탈 여부를 확인하는 것이 좋을 것 같다.\n",
    "\n"
   ]
  },
  {
   "cell_type": "markdown",
   "metadata": {},
   "source": [
    "INSIGHT\n",
    "\n",
    "---\n",
    "\n",
    "만약 고객 데이터 기록 시점과 같이 timestamp 역할을 해주는 컬럼이 있었다면, 좀 더 디테일한 고객 정보를 구축 할 수 있을 것 같다는 생각이 든다.\n",
    "\n",
    "**how?**\n",
    "\n",
    "동일한 고객이라고 판단되는 데이터를 그룹화하고, timestamp 기준으로 정렬해서 고객 데이터의 변화 추이를 바탕으로 이탈 고객 여부를 확인 할 수 있을 것 같다."
   ]
  },
  {
   "cell_type": "markdown",
   "metadata": {},
   "source": []
  }
 ],
 "metadata": {
  "kernelspec": {
   "display_name": "venv",
   "language": "python",
   "name": "python3"
  },
  "language_info": {
   "codemirror_mode": {
    "name": "ipython",
    "version": 3
   },
   "file_extension": ".py",
   "mimetype": "text/x-python",
   "name": "python",
   "nbconvert_exporter": "python",
   "pygments_lexer": "ipython3",
   "version": "3.9.19"
  }
 },
 "nbformat": 4,
 "nbformat_minor": 2
}
